{
 "cells": [
  {
   "cell_type": "markdown",
   "id": "decreased-community",
   "metadata": {},
   "source": [
    "# Black in X Data Project"
   ]
  },
  {
   "cell_type": "markdown",
   "id": "smoking-diesel",
   "metadata": {},
   "source": [
    "In STEM (Science, Technology, Engineering, and Mathematics) fields, the number of Black people is usually small. This is usually especially true for Black people at predominantly white institutions (PWIs) where there is usually a single digit number of Black people. This was true for me as I rarely interacted with other Black people in Physics except at conferences like the National Society of Black Physicists (NSBP) or the Society for Advancement of Chicanos/Hispanics and Native Americans in Science (SACNAS). Having a network and people who understand what you're going through is important for successs in a field. "
   ]
  },
  {
   "cell_type": "markdown",
   "id": "comparative-customer",
   "metadata": {},
   "source": [
    "#### Goal:  To help increase the network or community of a Black person in STEM.\n",
    "\n",
    "I developed a recommendation system that will recommend people in STEM to follow based on specific given keywords. For not these include the **Black in Physics**, **Black in Chemistry**, and **Black in Data** weeks. These will be referenced as **Black in X** where **X is physics, chemistry, or data**.\n",
    "\n"
   ]
  },
  {
   "cell_type": "markdown",
   "id": "modular-myrtle",
   "metadata": {},
   "source": [
    "## 1. Import python libraries and dataset, exploratory data analysis (EDA)"
   ]
  },
  {
   "cell_type": "code",
   "execution_count": 1,
   "id": "leading-material",
   "metadata": {},
   "outputs": [],
   "source": [
    "import os\n",
    "import pandas as pd\n",
    "pd.options.mode.chained_assignment = None\n",
    "import numpy as np\n",
    "import matplotlib.pyplot as plt\n",
    "import seaborn\n",
    "from rake_nltk import Rake"
   ]
  },
  {
   "cell_type": "markdown",
   "id": "intellectual-microwave",
   "metadata": {},
   "source": [
    "To gather information about Black people STEM, I scrape twitter for each specific Black in X Roll Calls for each Black in X week and save them as `.json` files. The #BlackinXRollCall was used to by a person who say who they are, what they do, and their interests. "
   ]
  },
  {
   "cell_type": "code",
   "execution_count": 2,
   "id": "joined-government",
   "metadata": {},
   "outputs": [],
   "source": [
    "# Using OS library to call CLI commands in Python\n",
    "#os.system(\"snscrape --jsonl --max-results 500 --since 2020-10-25 twitter-search '#BlackInPhysicsRollCall until:2020-10-31' > Black_in_Physics.json\")\n",
    "#os.system(\"snscrape --jsonl --max-results 500 --since 2020-11-16 twitter-search '#BlackInDataRollCall until:2020-11-21' > Black_in_Data.json\")\n",
    "#os.system(\"snscrape --jsonl --max-results 500 --since 2020-08-09 twitter-search '#BlackInChemRollCall until:2020-08-15' > Black_in_Chem.json\")"
   ]
  },
  {
   "cell_type": "code",
   "execution_count": 3,
   "id": "fluid-authority",
   "metadata": {},
   "outputs": [],
   "source": [
    "BiP_df = pd.read_json('Black_in_Physics.json', lines=True)\n",
    "BiD_df = pd.read_json('Black_in_Data.json', lines=True) \n",
    "BiC_df = pd.read_json('Black_in_Chem.json', lines=True)"
   ]
  },
  {
   "cell_type": "markdown",
   "id": "patent-motor",
   "metadata": {},
   "source": [
    "Added the research category (physics, chemistry, data) to the dataframes so they are included in the search words. Combine all of the datasets together to make it easier to parse all the information. "
   ]
  },
  {
   "cell_type": "code",
   "execution_count": 4,
   "id": "powerful-density",
   "metadata": {},
   "outputs": [],
   "source": [
    "BiP_df['research'] = 'Physics'\n",
    "BiC_df['research'] = 'Chemistry'\n",
    "BiD_df['research'] = 'Data'"
   ]
  },
  {
   "cell_type": "code",
   "execution_count": 5,
   "id": "exempt-horror",
   "metadata": {},
   "outputs": [],
   "source": [
    "Blackin_df = pd.concat([BiP_df, BiC_df, BiD_df], ignore_index = True)\n",
    "content = Blackin_df['content']"
   ]
  },
  {
   "cell_type": "code",
   "execution_count": 6,
   "id": "psychological-basketball",
   "metadata": {},
   "outputs": [
    {
     "data": {
      "text/html": [
       "<div>\n",
       "<style scoped>\n",
       "    .dataframe tbody tr th:only-of-type {\n",
       "        vertical-align: middle;\n",
       "    }\n",
       "\n",
       "    .dataframe tbody tr th {\n",
       "        vertical-align: top;\n",
       "    }\n",
       "\n",
       "    .dataframe thead th {\n",
       "        text-align: right;\n",
       "    }\n",
       "</style>\n",
       "<table border=\"1\" class=\"dataframe\">\n",
       "  <thead>\n",
       "    <tr style=\"text-align: right;\">\n",
       "      <th></th>\n",
       "      <th>_type</th>\n",
       "      <th>url</th>\n",
       "      <th>date</th>\n",
       "      <th>content</th>\n",
       "      <th>renderedContent</th>\n",
       "      <th>id</th>\n",
       "      <th>user</th>\n",
       "      <th>replyCount</th>\n",
       "      <th>retweetCount</th>\n",
       "      <th>likeCount</th>\n",
       "      <th>...</th>\n",
       "      <th>retweetedTweet</th>\n",
       "      <th>quotedTweet</th>\n",
       "      <th>inReplyToTweetId</th>\n",
       "      <th>inReplyToUser</th>\n",
       "      <th>mentionedUsers</th>\n",
       "      <th>coordinates</th>\n",
       "      <th>place</th>\n",
       "      <th>hashtags</th>\n",
       "      <th>cashtags</th>\n",
       "      <th>research</th>\n",
       "    </tr>\n",
       "  </thead>\n",
       "  <tbody>\n",
       "    <tr>\n",
       "      <th>0</th>\n",
       "      <td>snscrape.modules.twitter.Tweet</td>\n",
       "      <td>https://twitter.com/ProfTSearles/status/132223...</td>\n",
       "      <td>2020-10-30 18:07:09+00:00</td>\n",
       "      <td>Nothing brings me more joy than working with m...</td>\n",
       "      <td>Nothing brings me more joy than working with m...</td>\n",
       "      <td>1322238628848947204</td>\n",
       "      <td>{'_type': 'snscrape.modules.twitter.User', 'us...</td>\n",
       "      <td>0</td>\n",
       "      <td>8</td>\n",
       "      <td>33</td>\n",
       "      <td>...</td>\n",
       "      <td>NaN</td>\n",
       "      <td>{'_type': 'snscrape.modules.twitter.Tweet', 'u...</td>\n",
       "      <td>NaN</td>\n",
       "      <td>None</td>\n",
       "      <td>[{'_type': 'snscrape.modules.twitter.User', 'u...</td>\n",
       "      <td>None</td>\n",
       "      <td>None</td>\n",
       "      <td>[BlackInPhysicsRollCall]</td>\n",
       "      <td>NaN</td>\n",
       "      <td>Physics</td>\n",
       "    </tr>\n",
       "    <tr>\n",
       "      <th>1</th>\n",
       "      <td>snscrape.modules.twitter.Tweet</td>\n",
       "      <td>https://twitter.com/n3ssa_girl4/status/1322221...</td>\n",
       "      <td>2020-10-30 16:59:13+00:00</td>\n",
       "      <td>My name is Dr. Vanessa A. Sanders and i am #Bl...</td>\n",
       "      <td>My name is Dr. Vanessa A. Sanders and i am #Bl...</td>\n",
       "      <td>1322221533260034048</td>\n",
       "      <td>{'_type': 'snscrape.modules.twitter.User', 'us...</td>\n",
       "      <td>1</td>\n",
       "      <td>12</td>\n",
       "      <td>46</td>\n",
       "      <td>...</td>\n",
       "      <td>NaN</td>\n",
       "      <td>None</td>\n",
       "      <td>NaN</td>\n",
       "      <td>None</td>\n",
       "      <td>[{'_type': 'snscrape.modules.twitter.User', 'u...</td>\n",
       "      <td>None</td>\n",
       "      <td>None</td>\n",
       "      <td>[BlackInNuclear, BlackInPhysicsWeek, BlackInPh...</td>\n",
       "      <td>NaN</td>\n",
       "      <td>Physics</td>\n",
       "    </tr>\n",
       "    <tr>\n",
       "      <th>2</th>\n",
       "      <td>snscrape.modules.twitter.Tweet</td>\n",
       "      <td>https://twitter.com/ScienceZemen/status/132221...</td>\n",
       "      <td>2020-10-30 16:30:00+00:00</td>\n",
       "      <td>The moment when you are late to #BlackInPhysic...</td>\n",
       "      <td>The moment when you are late to #BlackInPhysic...</td>\n",
       "      <td>1322214177679855616</td>\n",
       "      <td>{'_type': 'snscrape.modules.twitter.User', 'us...</td>\n",
       "      <td>0</td>\n",
       "      <td>9</td>\n",
       "      <td>57</td>\n",
       "      <td>...</td>\n",
       "      <td>NaN</td>\n",
       "      <td>None</td>\n",
       "      <td>NaN</td>\n",
       "      <td>None</td>\n",
       "      <td>[{'_type': 'snscrape.modules.twitter.User', 'u...</td>\n",
       "      <td>None</td>\n",
       "      <td>None</td>\n",
       "      <td>[BlackInPhysicsWeek, BlackInPhysicsRollCall, B...</td>\n",
       "      <td>NaN</td>\n",
       "      <td>Physics</td>\n",
       "    </tr>\n",
       "    <tr>\n",
       "      <th>3</th>\n",
       "      <td>snscrape.modules.twitter.Tweet</td>\n",
       "      <td>https://twitter.com/JoshuaABurrow/status/13221...</td>\n",
       "      <td>2020-10-30 13:38:19+00:00</td>\n",
       "      <td>I am Joshua Burrow, a Ph.D. cand in Electro-Op...</td>\n",
       "      <td>I am Joshua Burrow, a Ph.D. cand in Electro-Op...</td>\n",
       "      <td>1322170972607229952</td>\n",
       "      <td>{'_type': 'snscrape.modules.twitter.User', 'us...</td>\n",
       "      <td>3</td>\n",
       "      <td>20</td>\n",
       "      <td>92</td>\n",
       "      <td>...</td>\n",
       "      <td>NaN</td>\n",
       "      <td>None</td>\n",
       "      <td>NaN</td>\n",
       "      <td>None</td>\n",
       "      <td>[{'_type': 'snscrape.modules.twitter.User', 'u...</td>\n",
       "      <td>None</td>\n",
       "      <td>None</td>\n",
       "      <td>[BlackInPhysicsRollCall, BlackinPhysics]</td>\n",
       "      <td>NaN</td>\n",
       "      <td>Physics</td>\n",
       "    </tr>\n",
       "    <tr>\n",
       "      <th>4</th>\n",
       "      <td>snscrape.modules.twitter.Tweet</td>\n",
       "      <td>https://twitter.com/Reneehortonphd/status/1322...</td>\n",
       "      <td>2020-10-30 10:23:00+00:00</td>\n",
       "      <td>I'm checking in for the #BlackInPhysicsRollCal...</td>\n",
       "      <td>I'm checking in for the #BlackInPhysicsRollCal...</td>\n",
       "      <td>1322121821936824320</td>\n",
       "      <td>{'_type': 'snscrape.modules.twitter.User', 'us...</td>\n",
       "      <td>1</td>\n",
       "      <td>40</td>\n",
       "      <td>147</td>\n",
       "      <td>...</td>\n",
       "      <td>NaN</td>\n",
       "      <td>None</td>\n",
       "      <td>NaN</td>\n",
       "      <td>None</td>\n",
       "      <td>[{'_type': 'snscrape.modules.twitter.User', 'u...</td>\n",
       "      <td>{'_type': 'snscrape.modules.twitter.Coordinate...</td>\n",
       "      <td>{'_type': 'snscrape.modules.twitter.Place', 'f...</td>\n",
       "      <td>[BlackInPhysicsRollCall, BlackInPhysics]</td>\n",
       "      <td>NaN</td>\n",
       "      <td>Physics</td>\n",
       "    </tr>\n",
       "  </tbody>\n",
       "</table>\n",
       "<p>5 rows × 29 columns</p>\n",
       "</div>"
      ],
      "text/plain": [
       "                            _type  \\\n",
       "0  snscrape.modules.twitter.Tweet   \n",
       "1  snscrape.modules.twitter.Tweet   \n",
       "2  snscrape.modules.twitter.Tweet   \n",
       "3  snscrape.modules.twitter.Tweet   \n",
       "4  snscrape.modules.twitter.Tweet   \n",
       "\n",
       "                                                 url  \\\n",
       "0  https://twitter.com/ProfTSearles/status/132223...   \n",
       "1  https://twitter.com/n3ssa_girl4/status/1322221...   \n",
       "2  https://twitter.com/ScienceZemen/status/132221...   \n",
       "3  https://twitter.com/JoshuaABurrow/status/13221...   \n",
       "4  https://twitter.com/Reneehortonphd/status/1322...   \n",
       "\n",
       "                       date  \\\n",
       "0 2020-10-30 18:07:09+00:00   \n",
       "1 2020-10-30 16:59:13+00:00   \n",
       "2 2020-10-30 16:30:00+00:00   \n",
       "3 2020-10-30 13:38:19+00:00   \n",
       "4 2020-10-30 10:23:00+00:00   \n",
       "\n",
       "                                             content  \\\n",
       "0  Nothing brings me more joy than working with m...   \n",
       "1  My name is Dr. Vanessa A. Sanders and i am #Bl...   \n",
       "2  The moment when you are late to #BlackInPhysic...   \n",
       "3  I am Joshua Burrow, a Ph.D. cand in Electro-Op...   \n",
       "4  I'm checking in for the #BlackInPhysicsRollCal...   \n",
       "\n",
       "                                     renderedContent                   id  \\\n",
       "0  Nothing brings me more joy than working with m...  1322238628848947204   \n",
       "1  My name is Dr. Vanessa A. Sanders and i am #Bl...  1322221533260034048   \n",
       "2  The moment when you are late to #BlackInPhysic...  1322214177679855616   \n",
       "3  I am Joshua Burrow, a Ph.D. cand in Electro-Op...  1322170972607229952   \n",
       "4  I'm checking in for the #BlackInPhysicsRollCal...  1322121821936824320   \n",
       "\n",
       "                                                user  replyCount  \\\n",
       "0  {'_type': 'snscrape.modules.twitter.User', 'us...           0   \n",
       "1  {'_type': 'snscrape.modules.twitter.User', 'us...           1   \n",
       "2  {'_type': 'snscrape.modules.twitter.User', 'us...           0   \n",
       "3  {'_type': 'snscrape.modules.twitter.User', 'us...           3   \n",
       "4  {'_type': 'snscrape.modules.twitter.User', 'us...           1   \n",
       "\n",
       "   retweetCount  likeCount  ...  retweetedTweet  \\\n",
       "0             8         33  ...             NaN   \n",
       "1            12         46  ...             NaN   \n",
       "2             9         57  ...             NaN   \n",
       "3            20         92  ...             NaN   \n",
       "4            40        147  ...             NaN   \n",
       "\n",
       "                                         quotedTweet inReplyToTweetId  \\\n",
       "0  {'_type': 'snscrape.modules.twitter.Tweet', 'u...              NaN   \n",
       "1                                               None              NaN   \n",
       "2                                               None              NaN   \n",
       "3                                               None              NaN   \n",
       "4                                               None              NaN   \n",
       "\n",
       "  inReplyToUser                                     mentionedUsers  \\\n",
       "0          None  [{'_type': 'snscrape.modules.twitter.User', 'u...   \n",
       "1          None  [{'_type': 'snscrape.modules.twitter.User', 'u...   \n",
       "2          None  [{'_type': 'snscrape.modules.twitter.User', 'u...   \n",
       "3          None  [{'_type': 'snscrape.modules.twitter.User', 'u...   \n",
       "4          None  [{'_type': 'snscrape.modules.twitter.User', 'u...   \n",
       "\n",
       "                                         coordinates  \\\n",
       "0                                               None   \n",
       "1                                               None   \n",
       "2                                               None   \n",
       "3                                               None   \n",
       "4  {'_type': 'snscrape.modules.twitter.Coordinate...   \n",
       "\n",
       "                                               place  \\\n",
       "0                                               None   \n",
       "1                                               None   \n",
       "2                                               None   \n",
       "3                                               None   \n",
       "4  {'_type': 'snscrape.modules.twitter.Place', 'f...   \n",
       "\n",
       "                                            hashtags cashtags  research  \n",
       "0                           [BlackInPhysicsRollCall]      NaN   Physics  \n",
       "1  [BlackInNuclear, BlackInPhysicsWeek, BlackInPh...      NaN   Physics  \n",
       "2  [BlackInPhysicsWeek, BlackInPhysicsRollCall, B...      NaN   Physics  \n",
       "3           [BlackInPhysicsRollCall, BlackinPhysics]      NaN   Physics  \n",
       "4           [BlackInPhysicsRollCall, BlackInPhysics]      NaN   Physics  \n",
       "\n",
       "[5 rows x 29 columns]"
      ]
     },
     "execution_count": 6,
     "metadata": {},
     "output_type": "execute_result"
    }
   ],
   "source": [
    "Blackin_df.head()"
   ]
  },
  {
   "cell_type": "code",
   "execution_count": 7,
   "id": "german-compound",
   "metadata": {},
   "outputs": [
    {
     "data": {
      "image/png": "[encoded data removed]",
      "text/plain": [
       "<Figure size 576x360 with 1 Axes>"
      ]
     },
     "metadata": {
      "needs_background": "light"
     },
     "output_type": "display_data"
    }
   ],
   "source": [
    "Blackin_df['research'].value_counts()[:].plot(kind='barh', figsize=[8,5], fontsize=15, color='navy').invert_yaxis()"
   ]
  },
  {
   "cell_type": "code",
   "execution_count": 8,
   "id": "alternate-domestic",
   "metadata": {},
   "outputs": [
    {
     "data": {
      "image/png": "[encoded data removed]",
      "text/plain": [
       "<Figure size 576x360 with 1 Axes>"
      ]
     },
     "metadata": {
      "needs_background": "light"
     },
     "output_type": "display_data"
    }
   ],
   "source": [
    "Blackin_df['hashtags'].value_counts()[0:15].plot(kind='barh', figsize=[8,5], fontsize=15, color='navy').invert_yaxis()"
   ]
  },
  {
   "cell_type": "markdown",
   "id": "cosmetic-canyon",
   "metadata": {},
   "source": [
    "## 2. Data Pre-processing"
   ]
  },
  {
   "cell_type": "markdown",
   "id": "protecting-rebecca",
   "metadata": {},
   "source": [
    "First, We want to remove all of the tweets that don't contain introduction words. The tweets that don't contain words from the list of introduction words will most likely not be introduction tweets in the #BlackinXRollCall. The tweets that don't contain introductions are then dropped from the dataset.\n",
    "\n",
    "We then pre-process the data using NLP to combine all of the attributes for each person into one column. After this we can use Jaccard Similarity to calculate the similarity between our list of keywords and the search_words for each person."
   ]
  },
  {
   "cell_type": "code",
   "execution_count": 9,
   "id": "acting-calculator",
   "metadata": {},
   "outputs": [],
   "source": [
    "introduction = [\"Hey\", \"Hello\", \"Hi\", \"I am\", \" I\\'m \", \"name\", \"check in\", \"research\"]"
   ]
  },
  {
   "cell_type": "code",
   "execution_count": 10,
   "id": "handmade-guest",
   "metadata": {},
   "outputs": [],
   "source": [
    "i = 0\n",
    "drop_idx = []\n",
    "for idx in range(len(content)):\n",
    "    if any(word in content[idx] for word in introduction):\n",
    "        continue\n",
    "    else:\n",
    "        drop_idx.append(idx)"
   ]
  },
  {
   "cell_type": "code",
   "execution_count": 11,
   "id": "blank-louisiana",
   "metadata": {},
   "outputs": [],
   "source": [
    "df = Blackin_df.drop(drop_idx, axis=0).reset_index(drop=True)"
   ]
  },
  {
   "cell_type": "markdown",
   "id": "sought-oklahoma",
   "metadata": {},
   "source": [
    "### Create new colums based on information we want to find"
   ]
  },
  {
   "cell_type": "markdown",
   "id": "catholic-foster",
   "metadata": {},
   "source": [
    "We want to create a list of keywords from the column labeled *content* in the dataframe. The *content* column contains the tweets from #BlackinXRollCall. We also want to use the descriptions and research columns when we build our recommender system. We extract the tweets; user names, display names, and descriptions; and research from the data."
   ]
  },
  {
   "cell_type": "markdown",
   "id": "australian-tribe",
   "metadata": {},
   "source": [
    "We use the Rapid Automatic Keyword Extraction (RAKE) library to remove all of the stop words, punctuation, whitespace, and convert all of the letters to lowercase."
   ]
  },
  {
   "cell_type": "code",
   "execution_count": 12,
   "id": "removed-ordinance",
   "metadata": {},
   "outputs": [],
   "source": [
    "df['Key_words'] = ''\n",
    "df['Name'] = ''\n",
    "df['Description'] = ''\n",
    "df['username'] = ''"
   ]
  },
  {
   "cell_type": "code",
   "execution_count": 13,
   "id": "rental-municipality",
   "metadata": {},
   "outputs": [],
   "source": [
    "r = Rake()\n",
    "#save keywords from tweets\n",
    "for index,row in df.iterrows():\n",
    "    r.extract_keywords_from_text(row['content'])\n",
    "    key_words_dict_scores = r.get_ranked_phrases()\n",
    "    row['Key_words'] = list(key_words_dict_scores)\n",
    "    df['Key_words'][index] = row['Key_words']\n",
    "    \n",
    "    r.extract_keywords_from_text(row['user']['description'])\n",
    "    key_words_dict_scores = r.get_ranked_phrases()\n",
    "    row['Description'] = list(key_words_dict_scores)\n",
    "    df['Description'][index] = row['Description']\n",
    "    \n",
    "    r.extract_keywords_from_text(row['research'])\n",
    "    key_words_dict_scores = r.get_ranked_phrases()\n",
    "    row['research'] = list(key_words_dict_scores)\n",
    "    df['research'][index] = row['research']\n",
    "    \n",
    "    r.extract_keywords_from_text(row['user']['displayname'])\n",
    "    key_words_dict_scores = r.get_ranked_phrases()\n",
    "    row['Name'] = list(key_words_dict_scores)\n",
    "    df['Name'][index] = row['Name']\n",
    "    \n",
    "    r.extract_keywords_from_text(row['user']['username'])\n",
    "    key_words_dict_scores = r.get_ranked_phrases()\n",
    "    row['username'] = list(key_words_dict_scores)\n",
    "    df['username'][index] = row['username']"
   ]
  },
  {
   "cell_type": "markdown",
   "id": "ranking-characteristic",
   "metadata": {},
   "source": [
    "## 3. Create a column containing search words for each person"
   ]
  },
  {
   "cell_type": "markdown",
   "id": "certified-particle",
   "metadata": {},
   "source": [
    "Create new column that contains the search words for each person based on the tweets, descriptions, hashtags, and research topics. Create a new dataframe that just contains the descripters for each person (i.e. name, username) and keywords."
   ]
  },
  {
   "cell_type": "code",
   "execution_count": 14,
   "id": "mediterranean-resident",
   "metadata": {},
   "outputs": [],
   "source": [
    "df['search_words'] = ''"
   ]
  },
  {
   "cell_type": "code",
   "execution_count": 15,
   "id": "gorgeous-headquarters",
   "metadata": {},
   "outputs": [],
   "source": [
    "columns = ['research', 'Key_words', 'Description', 'hashtags']\n",
    "for index, row in df.iterrows():\n",
    "    words = ''\n",
    "    for col in columns:\n",
    "        words += ' '.join(row[col]) + ' '\n",
    "    row['search_words'] = words\n",
    "    df['search_words'][index] = row['search_words']"
   ]
  },
  {
   "cell_type": "code",
   "execution_count": 16,
   "id": "european-india",
   "metadata": {},
   "outputs": [],
   "source": [
    "new_df = df[['Name', 'username', 'search_words']]\n",
    "new_df['name_user'] = new_df['Name'] + new_df['username'] "
   ]
  },
  {
   "cell_type": "code",
   "execution_count": 17,
   "id": "recent-lebanon",
   "metadata": {},
   "outputs": [
    {
     "data": {
      "text/html": [
       "<div>\n",
       "<style scoped>\n",
       "    .dataframe tbody tr th:only-of-type {\n",
       "        vertical-align: middle;\n",
       "    }\n",
       "\n",
       "    .dataframe tbody tr th {\n",
       "        vertical-align: top;\n",
       "    }\n",
       "\n",
       "    .dataframe thead th {\n",
       "        text-align: right;\n",
       "    }\n",
       "</style>\n",
       "<table border=\"1\" class=\"dataframe\">\n",
       "  <thead>\n",
       "    <tr style=\"text-align: right;\">\n",
       "      <th></th>\n",
       "      <th>Name</th>\n",
       "      <th>username</th>\n",
       "      <th>search_words</th>\n",
       "      <th>name_user</th>\n",
       "    </tr>\n",
       "  </thead>\n",
       "  <tbody>\n",
       "    <tr>\n",
       "      <th>0</th>\n",
       "      <td>[vanessa sanders ph]</td>\n",
       "      <td>[n3ssa_girl4]</td>\n",
       "      <td>physics staff scientist medical applications b...</td>\n",
       "      <td>[vanessa sanders ph, n3ssa_girl4]</td>\n",
       "    </tr>\n",
       "    <tr>\n",
       "      <th>1</th>\n",
       "      <td>[zemen sarah berhe]</td>\n",
       "      <td>[sciencezemen]</td>\n",
       "      <td>physics blackinphysics https :// standing stro...</td>\n",
       "      <td>[zemen sarah berhe, sciencezemen]</td>\n",
       "    </tr>\n",
       "    <tr>\n",
       "      <th>2</th>\n",
       "      <td>[joshua burrow]</td>\n",
       "      <td>[joshuaaburrow]</td>\n",
       "      <td>physics regular ole fella blackinphysics https...</td>\n",
       "      <td>[joshua burrow, joshuaaburrow]</td>\n",
       "    </tr>\n",
       "    <tr>\n",
       "      <th>3</th>\n",
       "      <td>[renee horton, phd]</td>\n",
       "      <td>[reneehortonphd]</td>\n",
       "      <td>physics black physicist looks like past presid...</td>\n",
       "      <td>[renee horton, phd, reneehortonphd]</td>\n",
       "    </tr>\n",
       "    <tr>\n",
       "      <th>4</th>\n",
       "      <td>[viktor belay]</td>\n",
       "      <td>[belayviktor]</td>\n",
       "      <td>physics sloan_kettering studying membrane prot...</td>\n",
       "      <td>[viktor belay, belayviktor]</td>\n",
       "    </tr>\n",
       "  </tbody>\n",
       "</table>\n",
       "</div>"
      ],
      "text/plain": [
       "                   Name          username  \\\n",
       "0  [vanessa sanders ph]     [n3ssa_girl4]   \n",
       "1   [zemen sarah berhe]    [sciencezemen]   \n",
       "2       [joshua burrow]   [joshuaaburrow]   \n",
       "3   [renee horton, phd]  [reneehortonphd]   \n",
       "4        [viktor belay]     [belayviktor]   \n",
       "\n",
       "                                        search_words  \\\n",
       "0  physics staff scientist medical applications b...   \n",
       "1  physics blackinphysics https :// standing stro...   \n",
       "2  physics regular ole fella blackinphysics https...   \n",
       "3  physics black physicist looks like past presid...   \n",
       "4  physics sloan_kettering studying membrane prot...   \n",
       "\n",
       "                             name_user  \n",
       "0    [vanessa sanders ph, n3ssa_girl4]  \n",
       "1    [zemen sarah berhe, sciencezemen]  \n",
       "2       [joshua burrow, joshuaaburrow]  \n",
       "3  [renee horton, phd, reneehortonphd]  \n",
       "4          [viktor belay, belayviktor]  "
      ]
     },
     "execution_count": 17,
     "metadata": {},
     "output_type": "execute_result"
    }
   ],
   "source": [
    "new_df.head()"
   ]
  },
  {
   "cell_type": "markdown",
   "id": "surprised-jaguar",
   "metadata": {},
   "source": [
    "## 4. Calculate the Jaccard Similarity"
   ]
  },
  {
   "cell_type": "markdown",
   "id": "regulation-walnut",
   "metadata": {},
   "source": [
    "The Jaccard similarity is a statistic used to gauge the similarity of data sets.\n",
    "\n",
    "This is measured as the similarity of two finite data sets (A,B) and is defined by the size of the intersection ($| A \\cup B|$). The equation for Jaccard similarity is given by\n",
    "\n",
    "$$ \\begin{equation} J(A,B) = \\frac{|A\\cap B|}{|A| + |B| + |A\\cap B|}. \\end{equation}$$\n",
    "\n",
    "These numbers are calculated between $0 \\leq J(A,B) \\leq 1$."
   ]
  },
  {
   "cell_type": "code",
   "execution_count": 18,
   "id": "sapphire-indiana",
   "metadata": {},
   "outputs": [],
   "source": [
    "def get_jaccard_sim(str1, str2):\n",
    "    a = set(str1) #Create an unordered, unindexed list that does not contain duplicate values from the string\n",
    "    b = set(str2) \n",
    "    c = b.intersection(a) #Calculates the intersection of the two strings\n",
    "    return(float(len(c)) / (len(a) + len(b) - len(c)))"
   ]
  },
  {
   "cell_type": "markdown",
   "id": "multiple-place",
   "metadata": {},
   "source": [
    "## 5. Create and test the recommender"
   ]
  },
  {
   "cell_type": "markdown",
   "id": "inappropriate-details",
   "metadata": {},
   "source": [
    "We create a recommender that takes the list of given keywords as input and calculates the Jaccard similarity between that list and the search word list for every person. The top *n* hits are returned in **Name**, **username**, order based on the highest calculated similarity.\n",
    "\n",
    "Regardless of the number of hits that you can give the recommender, it will only return a hit if the calculated Jaccard similarity is greater than 0. If it is 0 it will drop the index and only return the hits that are greater than 0. "
   ]
  },
  {
   "cell_type": "code",
   "execution_count": 19,
   "id": "strategic-bumper",
   "metadata": {},
   "outputs": [],
   "source": [
    "def recommender(keywords, number_of_hits=2, keyword_number=3):\n",
    "    '''\n",
    "    keywords: sets the keywords used to search for similar people\n",
    "    number_of_hits: sets the number of people that the code will return. default = 2\n",
    "    keyword_number: minimum number of keywords to match for each person. default = 3\n",
    "    '''\n",
    "\n",
    "    keywords = keywords.replace(' ','').split(',')\n",
    "    jaccards = []\n",
    "    for search in new_df['search_words']:\n",
    "        matches = {x for x in keywords if x in search}\n",
    "        if len(matches) >= keyword_number: \n",
    "            jaccards.append(get_jaccard_sim(keywords,list(search.split(' '))))\n",
    "        else:\n",
    "            jaccards.append(0.0)\n",
    "    \n",
    "    jaccards = pd.Series(jaccards)\n",
    "    j_index = jaccards.nlargest(number_of_hits+1).index\n",
    "    high_matches = new_df.loc[j_index]\n",
    "    drop_idx = []\n",
    "    for i in j_index:\n",
    "        if jaccards[i] == np.float64(0.00):\n",
    "            drop_idx.append(i)\n",
    "    j_index = j_index.drop(drop_idx)\n",
    "    \n",
    "    high_matches = new_df.loc[j_index]\n",
    "\n",
    "    for match,score in zip(zip(high_matches['Name'],high_matches['username']),jaccards[j_index]):\n",
    "        print(match, score)"
   ]
  },
  {
   "cell_type": "markdown",
   "id": "acting-blake",
   "metadata": {},
   "source": [
    "We test this for each of the included research categories (chemistry, data, physics). "
   ]
  },
  {
   "cell_type": "markdown",
   "id": "rural-convertible",
   "metadata": {},
   "source": [
    "### Chemistry"
   ]
  },
  {
   "cell_type": "code",
   "execution_count": 20,
   "id": "civilian-indonesian",
   "metadata": {},
   "outputs": [
    {
     "name": "stdout",
     "output_type": "stream",
     "text": [
      "(['olivia'], ['oliviageneus']) 0.12244897959183673\n",
      "(['chey jones'], ['cheymjones']) 0.11904761904761904\n",
      "(['sun kly'], ['sun_kly']) 0.1\n",
      "(['neuro saweetie ❄️🧠', 'gwenaëlle'], ['getneuro']) 0.1\n",
      "(['nathalie momplaisir'], ['steministnat']) 0.0975609756097561\n",
      "(['bruna katiele'], ['brunakatiele1']) 0.07317073170731707\n"
     ]
    }
   ],
   "source": [
    "recommender('chemistry, nanoparticles, phd, candidate, nanotech, biological, applications', 5,4)"
   ]
  },
  {
   "cell_type": "code",
   "execution_count": 21,
   "id": "driving-logan",
   "metadata": {},
   "outputs": [
    {
     "name": "stdout",
     "output_type": "stream",
     "text": [
      "['olivia'] \n",
      " Get in, losers! We’re making nanoparticles 🗣🤪 Hi 👋🏾#BlackInChem #BlackinChemRollCall Olivia here! 4th yr PhD Candidate in Physical Chemistry using nanotechnology for biological applications. I have a B.S in Physics, &amp; Public Health. Excited to meet everyone!\n",
      "\n",
      "IG: muhammad.oli https://t.co/HILgZl4WHo\n"
     ]
    }
   ],
   "source": [
    "print(new_df['Name'][263],'\\n',df['content'][263])"
   ]
  },
  {
   "cell_type": "markdown",
   "id": "miniature-currency",
   "metadata": {},
   "source": [
    "### Data"
   ]
  },
  {
   "cell_type": "code",
   "execution_count": 22,
   "id": "senior-settle",
   "metadata": {},
   "outputs": [
    {
     "name": "stdout",
     "output_type": "stream",
     "text": [
      "(['kris rawls', 'phd'], ['kdrawls']) 0.125\n",
      "(['dare imam', 'lawal'], ['drdreibile']) 0.09375\n",
      "(['byron tweets data'], ['byrontweetsdata']) 0.07894736842105263\n",
      "(['dissertating informaticist', 'kimberly'], ['datakimist']) 0.020833333333333332\n"
     ]
    }
   ],
   "source": [
    "recommender('data, phd, hemoshear, engineering, rare, disease', 5)"
   ]
  },
  {
   "cell_type": "code",
   "execution_count": 23,
   "id": "tested-mercy",
   "metadata": {},
   "outputs": [
    {
     "name": "stdout",
     "output_type": "stream",
     "text": [
      "['kris rawls', 'phd'] \n",
      " It’s #BlackInDataWeek ! Hi I’m Kris. I have a PhD in Biomedical Engineering and I am a Data Scientist @HemoShear . I use data to understand rare diseases and the effects of different treatments. @BlkInData #BlackInDataRollCall #BlackInData https://t.co/802ptN76X6\n"
     ]
    }
   ],
   "source": [
    "print(new_df['Name'][410],'\\n',df['content'][410])"
   ]
  },
  {
   "cell_type": "markdown",
   "id": "occupational-relationship",
   "metadata": {},
   "source": [
    "### Physics"
   ]
  },
  {
   "cell_type": "code",
   "execution_count": 24,
   "id": "distributed-phenomenon",
   "metadata": {},
   "outputs": [
    {
     "name": "stdout",
     "output_type": "stream",
     "text": [
      "(['cheeseboro 🇹🇹🖤🤍💜 🏳️\\u200d🌈', 'belinda'], ['bdcheeseboro']) 0.13157894736842105\n",
      "(['amber lenon', 'dr'], ['amberkiana_']) 0.125\n"
     ]
    }
   ],
   "source": [
    "recommender('physics, eccentric, gravitational, waves, soccer, candidate, eccentricity', 5,4)"
   ]
  },
  {
   "cell_type": "code",
   "execution_count": 25,
   "id": "electric-laugh",
   "metadata": {},
   "outputs": [
    {
     "name": "stdout",
     "output_type": "stream",
     "text": [
      "['cheeseboro 🇹🇹🖤🤍💜 🏳️\\u200d🌈', 'belinda'] \n",
      " #BlackInPhysicsRollCall \n",
      " Hey y'all!! I'm currently a 6th year PhD candidate in Physics and Astronomy @WestVirginiaU and my research is in eccentric gravitational waves 😁 #BlackInPhysics #BlackinAstro https://t.co/0wfedR1WJV\n"
     ]
    }
   ],
   "source": [
    "print(new_df['Name'][47],'\\n',df['content'][47])"
   ]
  }
 ],
 "metadata": {
  "kernelspec": {
   "display_name": "Python 3",
   "language": "python",
   "name": "python3"
  },
  "language_info": {
   "codemirror_mode": {
    "name": "ipython",
    "version": 3
   },
   "file_extension": ".py",
   "mimetype": "text/x-python",
   "name": "python",
   "nbconvert_exporter": "python",
   "pygments_lexer": "ipython3",
   "version": "3.9.1"
  }
 },
 "nbformat": 4,
 "nbformat_minor": 5
}
